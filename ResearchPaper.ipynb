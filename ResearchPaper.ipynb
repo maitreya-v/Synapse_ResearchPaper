{
  "nbformat": 4,
  "nbformat_minor": 0,
  "metadata": {
    "colab": {
      "provenance": [],
      "authorship_tag": "ABX9TyNhg8C1MxmSwqHCbq2bMRPt",
      "include_colab_link": true
    },
    "kernelspec": {
      "name": "python3",
      "display_name": "Python 3"
    },
    "language_info": {
      "name": "python"
    }
  },
  "cells": [
    {
      "cell_type": "markdown",
      "metadata": {
        "id": "view-in-github",
        "colab_type": "text"
      },
      "source": [
        "<a href=\"https://colab.research.google.com/github/maitreya-v/Synapse_ResearchPaper/blob/main/ResearchPaper.ipynb\" target=\"_parent\"><img src=\"https://colab.research.google.com/assets/colab-badge.svg\" alt=\"Open In Colab\"/></a>"
      ]
    },
    {
      "cell_type": "code",
      "execution_count": 51,
      "metadata": {
        "id": "wnH8JX-qXLE1"
      },
      "outputs": [],
      "source": [
        "import pandas as pd\n",
        "import numpy as np\n",
        "import seaborn as sns\n",
        "import matplotlib.pyplot as plt"
      ]
    },
    {
      "cell_type": "code",
      "source": [
        "df=pd.read_csv('/content/oneline.csv',on_bad_lines='skip')"
      ],
      "metadata": {
        "id": "GE5Fq_R-Xg8H"
      },
      "execution_count": 52,
      "outputs": []
    },
    {
      "cell_type": "code",
      "source": [
        "df.head()"
      ],
      "metadata": {
        "id": "b08iCaNcXq-c",
        "outputId": "a70dc6e9-5c8d-4f35-cb0f-9d2db952cec4",
        "colab": {
          "base_uri": "https://localhost:8080/",
          "height": 206
        }
      },
      "execution_count": 53,
      "outputs": [
        {
          "output_type": "execute_result",
          "data": {
            "text/plain": [
              "                                     commit  \\\n",
              "0  72db93cc40884f42e05e4290d6ab63713d0075c9   \n",
              "1  8d3b4241120a1290c0477e77beb7d2fff454462e   \n",
              "2  c00c4bd7e441fbe181302a74d24f8b08c67abff3   \n",
              "3  15c2c72e27c6ea18566f4e786506c7a3aef8a5de   \n",
              "4  0df7abfc87fd7aa875d0ee5ad133c455b2ded423   \n",
              "\n",
              "                                             message  \\\n",
              "0  TST replaces assert_raises* by pytest.raises i...   \n",
              "1  FIX race condition in get_data_home causing Fi...   \n",
              "2     Change assert_raises to pytest_raises (#19509)   \n",
              "3  FIX Do not call get_feature_names for empty co...   \n",
              "4  TST replace asert_warns by pytest.warns in com...   \n",
              "\n",
              "                        repo  \n",
              "0  scikit-learn/scikit-learn  \n",
              "1  scikit-learn/scikit-learn  \n",
              "2  scikit-learn/scikit-learn  \n",
              "3  scikit-learn/scikit-learn  \n",
              "4  scikit-learn/scikit-learn  "
            ],
            "text/html": [
              "\n",
              "  <div id=\"df-f71a0fcd-c3bf-490b-b967-79c2f54d81b3\">\n",
              "    <div class=\"colab-df-container\">\n",
              "      <div>\n",
              "<style scoped>\n",
              "    .dataframe tbody tr th:only-of-type {\n",
              "        vertical-align: middle;\n",
              "    }\n",
              "\n",
              "    .dataframe tbody tr th {\n",
              "        vertical-align: top;\n",
              "    }\n",
              "\n",
              "    .dataframe thead th {\n",
              "        text-align: right;\n",
              "    }\n",
              "</style>\n",
              "<table border=\"1\" class=\"dataframe\">\n",
              "  <thead>\n",
              "    <tr style=\"text-align: right;\">\n",
              "      <th></th>\n",
              "      <th>commit</th>\n",
              "      <th>message</th>\n",
              "      <th>repo</th>\n",
              "    </tr>\n",
              "  </thead>\n",
              "  <tbody>\n",
              "    <tr>\n",
              "      <th>0</th>\n",
              "      <td>72db93cc40884f42e05e4290d6ab63713d0075c9</td>\n",
              "      <td>TST replaces assert_raises* by pytest.raises i...</td>\n",
              "      <td>scikit-learn/scikit-learn</td>\n",
              "    </tr>\n",
              "    <tr>\n",
              "      <th>1</th>\n",
              "      <td>8d3b4241120a1290c0477e77beb7d2fff454462e</td>\n",
              "      <td>FIX race condition in get_data_home causing Fi...</td>\n",
              "      <td>scikit-learn/scikit-learn</td>\n",
              "    </tr>\n",
              "    <tr>\n",
              "      <th>2</th>\n",
              "      <td>c00c4bd7e441fbe181302a74d24f8b08c67abff3</td>\n",
              "      <td>Change assert_raises to pytest_raises (#19509)</td>\n",
              "      <td>scikit-learn/scikit-learn</td>\n",
              "    </tr>\n",
              "    <tr>\n",
              "      <th>3</th>\n",
              "      <td>15c2c72e27c6ea18566f4e786506c7a3aef8a5de</td>\n",
              "      <td>FIX Do not call get_feature_names for empty co...</td>\n",
              "      <td>scikit-learn/scikit-learn</td>\n",
              "    </tr>\n",
              "    <tr>\n",
              "      <th>4</th>\n",
              "      <td>0df7abfc87fd7aa875d0ee5ad133c455b2ded423</td>\n",
              "      <td>TST replace asert_warns by pytest.warns in com...</td>\n",
              "      <td>scikit-learn/scikit-learn</td>\n",
              "    </tr>\n",
              "  </tbody>\n",
              "</table>\n",
              "</div>\n",
              "      <button class=\"colab-df-convert\" onclick=\"convertToInteractive('df-f71a0fcd-c3bf-490b-b967-79c2f54d81b3')\"\n",
              "              title=\"Convert this dataframe to an interactive table.\"\n",
              "              style=\"display:none;\">\n",
              "        \n",
              "  <svg xmlns=\"http://www.w3.org/2000/svg\" height=\"24px\"viewBox=\"0 0 24 24\"\n",
              "       width=\"24px\">\n",
              "    <path d=\"M0 0h24v24H0V0z\" fill=\"none\"/>\n",
              "    <path d=\"M18.56 5.44l.94 2.06.94-2.06 2.06-.94-2.06-.94-.94-2.06-.94 2.06-2.06.94zm-11 1L8.5 8.5l.94-2.06 2.06-.94-2.06-.94L8.5 2.5l-.94 2.06-2.06.94zm10 10l.94 2.06.94-2.06 2.06-.94-2.06-.94-.94-2.06-.94 2.06-2.06.94z\"/><path d=\"M17.41 7.96l-1.37-1.37c-.4-.4-.92-.59-1.43-.59-.52 0-1.04.2-1.43.59L10.3 9.45l-7.72 7.72c-.78.78-.78 2.05 0 2.83L4 21.41c.39.39.9.59 1.41.59.51 0 1.02-.2 1.41-.59l7.78-7.78 2.81-2.81c.8-.78.8-2.07 0-2.86zM5.41 20L4 18.59l7.72-7.72 1.47 1.35L5.41 20z\"/>\n",
              "  </svg>\n",
              "      </button>\n",
              "      \n",
              "  <style>\n",
              "    .colab-df-container {\n",
              "      display:flex;\n",
              "      flex-wrap:wrap;\n",
              "      gap: 12px;\n",
              "    }\n",
              "\n",
              "    .colab-df-convert {\n",
              "      background-color: #E8F0FE;\n",
              "      border: none;\n",
              "      border-radius: 50%;\n",
              "      cursor: pointer;\n",
              "      display: none;\n",
              "      fill: #1967D2;\n",
              "      height: 32px;\n",
              "      padding: 0 0 0 0;\n",
              "      width: 32px;\n",
              "    }\n",
              "\n",
              "    .colab-df-convert:hover {\n",
              "      background-color: #E2EBFA;\n",
              "      box-shadow: 0px 1px 2px rgba(60, 64, 67, 0.3), 0px 1px 3px 1px rgba(60, 64, 67, 0.15);\n",
              "      fill: #174EA6;\n",
              "    }\n",
              "\n",
              "    [theme=dark] .colab-df-convert {\n",
              "      background-color: #3B4455;\n",
              "      fill: #D2E3FC;\n",
              "    }\n",
              "\n",
              "    [theme=dark] .colab-df-convert:hover {\n",
              "      background-color: #434B5C;\n",
              "      box-shadow: 0px 1px 3px 1px rgba(0, 0, 0, 0.15);\n",
              "      filter: drop-shadow(0px 1px 2px rgba(0, 0, 0, 0.3));\n",
              "      fill: #FFFFFF;\n",
              "    }\n",
              "  </style>\n",
              "\n",
              "      <script>\n",
              "        const buttonEl =\n",
              "          document.querySelector('#df-f71a0fcd-c3bf-490b-b967-79c2f54d81b3 button.colab-df-convert');\n",
              "        buttonEl.style.display =\n",
              "          google.colab.kernel.accessAllowed ? 'block' : 'none';\n",
              "\n",
              "        async function convertToInteractive(key) {\n",
              "          const element = document.querySelector('#df-f71a0fcd-c3bf-490b-b967-79c2f54d81b3');\n",
              "          const dataTable =\n",
              "            await google.colab.kernel.invokeFunction('convertToInteractive',\n",
              "                                                     [key], {});\n",
              "          if (!dataTable) return;\n",
              "\n",
              "          const docLinkHtml = 'Like what you see? Visit the ' +\n",
              "            '<a target=\"_blank\" href=https://colab.research.google.com/notebooks/data_table.ipynb>data table notebook</a>'\n",
              "            + ' to learn more about interactive tables.';\n",
              "          element.innerHTML = '';\n",
              "          dataTable['output_type'] = 'display_data';\n",
              "          await google.colab.output.renderOutput(dataTable, element);\n",
              "          const docLink = document.createElement('div');\n",
              "          docLink.innerHTML = docLinkHtml;\n",
              "          element.appendChild(docLink);\n",
              "        }\n",
              "      </script>\n",
              "    </div>\n",
              "  </div>\n",
              "  "
            ]
          },
          "metadata": {},
          "execution_count": 53
        }
      ]
    },
    {
      "cell_type": "code",
      "source": [
        "df['repo'].value_counts()"
      ],
      "metadata": {
        "id": "z6jQFz3DcGvT",
        "outputId": "8a1b2aa0-0eae-4e56-a9e4-90aa2491a19c",
        "colab": {
          "base_uri": "https://localhost:8080/"
        }
      },
      "execution_count": 54,
      "outputs": [
        {
          "output_type": "execute_result",
          "data": {
            "text/plain": [
              "freebsd/freebsd-src          257078\n",
              "gcc-mirror/gcc               166389\n",
              "scikit-learn/scikit-learn     26579\n",
              "tidyverse/ggplot2              4694\n",
              "Name: repo, dtype: int64"
            ]
          },
          "metadata": {},
          "execution_count": 54
        }
      ]
    },
    {
      "cell_type": "code",
      "source": [
        "sns.catplot(x='repo', kind='count', data=df)"
      ],
      "metadata": {
        "id": "j4BwIUxWcWST",
        "outputId": "b17c38e6-2f64-45f9-82ea-28cbbd25737c",
        "colab": {
          "base_uri": "https://localhost:8080/",
          "height": 523
        }
      },
      "execution_count": 55,
      "outputs": [
        {
          "output_type": "execute_result",
          "data": {
            "text/plain": [
              "<seaborn.axisgrid.FacetGrid at 0x7f54a4cbb400>"
            ]
          },
          "metadata": {},
          "execution_count": 55
        },
        {
          "output_type": "display_data",
          "data": {
            "text/plain": [
              "<Figure size 500x500 with 1 Axes>"
            ],
            "image/png": "[encoded data removed]"
          },
          "metadata": {}
        }
      ]
    },
    {
      "cell_type": "code",
      "source": [
        "df=df[df['repo']=='scikit-learn/scikit-learn']"
      ],
      "metadata": {
        "id": "kpjHjL0scKYz"
      },
      "execution_count": 56,
      "outputs": []
    },
    {
      "cell_type": "code",
      "source": [
        "df['repo'].value_counts()"
      ],
      "metadata": {
        "id": "LQaTVuVYcSOP",
        "outputId": "bdbcb827-b778-45b0-cc7c-4b20e6a9e027",
        "colab": {
          "base_uri": "https://localhost:8080/"
        }
      },
      "execution_count": 57,
      "outputs": [
        {
          "output_type": "execute_result",
          "data": {
            "text/plain": [
              "scikit-learn/scikit-learn    26579\n",
              "Name: repo, dtype: int64"
            ]
          },
          "metadata": {},
          "execution_count": 57
        }
      ]
    },
    {
      "cell_type": "code",
      "source": [
        "df_str = ''\n",
        "\n",
        "def convert_string(text):\n",
        "  global df_str\n",
        "  df_str = df_str + str(text)\n",
        "  return text"
      ],
      "metadata": {
        "id": "hu_bJy_KcVAB"
      },
      "execution_count": 58,
      "outputs": []
    },
    {
      "cell_type": "code",
      "source": [
        "df['message'].apply(convert_string)"
      ],
      "metadata": {
        "id": "Fz3tgAiFdyTN",
        "outputId": "adae9f3d-c1cb-421e-e745-3a15b3a40f15",
        "colab": {
          "base_uri": "https://localhost:8080/"
        }
      },
      "execution_count": 59,
      "outputs": [
        {
          "output_type": "execute_result",
          "data": {
            "text/plain": [
              "0        TST replaces assert_raises* by pytest.raises i...\n",
              "1        FIX race condition in get_data_home causing Fi...\n",
              "2           Change assert_raises to pytest_raises (#19509)\n",
              "3        FIX Do not call get_feature_names for empty co...\n",
              "4        TST replace asert_warns by pytest.warns in com...\n",
              "                               ...                        \n",
              "26574                      Adding pendigits from UCI ML DB\n",
              "26575                      Adding Iris data from UCI ML db\n",
              "26576                       Adding oldfaithful to datasets\n",
              "26577    Initial commit for learn, a set of algorithms ...\n",
              "26578                            Initial repository layout\n",
              "Name: message, Length: 26579, dtype: object"
            ]
          },
          "metadata": {},
          "execution_count": 59
        }
      ]
    },
    {
      "cell_type": "code",
      "source": [
        "len(df_str)"
      ],
      "metadata": {
        "id": "e-HBdQz9eaGf",
        "outputId": "3d192a98-ca7d-46b0-b790-905e61f90f06",
        "colab": {
          "base_uri": "https://localhost:8080/"
        }
      },
      "execution_count": 61,
      "outputs": [
        {
          "output_type": "execute_result",
          "data": {
            "text/plain": [
              "1258343"
            ]
          },
          "metadata": {},
          "execution_count": 61
        }
      ]
    },
    {
      "cell_type": "code",
      "source": [],
      "metadata": {
        "id": "iz2J9HEZebDx"
      },
      "execution_count": 60,
      "outputs": []
    }
  ]
}